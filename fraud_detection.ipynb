{
 "cells": [
  {
   "cell_type": "markdown",
   "metadata": {},
   "source": [
    "## **Fraud Detection in Electricity and Gas Consumption**\n",
    "## BUSINESS UNDERSTANDING\n",
    "Detect fraudulent clients using historical billing data from STEG. Help STEG identify and prevent fraudulent activities to reduce losses.\n",
    "Evaluation Metric is AUC (Area Under the Curve), which will assess how well the model distinguishes between fraudulent and non-fraudulent clients."
   ]
  },
  {
   "cell_type": "markdown",
   "metadata": {},
   "source": [
    "             HYPOTHESIS\n",
    "\n",
    "Null Hypothesis (H0): The number of unique counter statuses does not differ between fraudulent and non-fraudulent clients.\n",
    "\n",
    "\n",
    "Alternative Hypothesis (H1): Clients with more frequent counter status changes are more likely to be involved in fraudulent activities."
   ]
  },
  {
   "cell_type": "markdown",
   "metadata": {},
   "source": [
    "### QUESTIONS\n",
    "\n",
    " \n",
    "1. How do counter statuses differ between fraudulent and non-fraudulent clients?\n",
    "\n",
    "2. What is the frequency of unique counter statuses across fraud categories?\n",
    "\n",
    "3. How do intervals between status changes vary between fraudulent and non-fraudulent clients?\n",
    "\n",
    "4. Is there a relationship between consumption levels and counter status changes?\n",
    "\n",
    "5. Do counter status changes exhibit seasonal variations across fraud categories?"
   ]
  },
  {
   "cell_type": "markdown",
   "metadata": {},
   "source": [
    "## DATA UNDERSTANDING\n",
    "## Importation"
   ]
  },
  {
   "cell_type": "code",
   "execution_count": null,
   "metadata": {},
   "outputs": [],
   "source": [
    "#data handling \n",
    "import pandas as pd \n",
    "import numpy as np\n",
    "import warnings\n",
    "warnings.filterwarnings(\"ignore\")\n",
    "\n",
    "# visualization\n",
    "import seaborn as sns\n",
    "import matplotlib.pyplot as plt\n",
    "import plotly.express as px "
   ]
  }
 ],
 "metadata": {
  "kernelspec": {
   "display_name": "venv_fraud",
   "language": "python",
   "name": "python3"
  },
  "language_info": {
   "name": "python",
   "version": "3.9.13"
  }
 },
 "nbformat": 4,
 "nbformat_minor": 2
}
