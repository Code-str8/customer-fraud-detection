{
 "cells": [
  {
   "cell_type": "markdown",
   "metadata": {},
   "source": [
    "## **Fraud Detection in Electricity and Gas Consumption**\n",
    "## BUSINESS UNDERSTANDING\n",
    "Detect fraudulent clients using historical billing data from STEG. Help STEG identify and prevent fraudulent activities to reduce losses.\n",
    "Evaluation Metric is AUC (Area Under the Curve), which will assess how well the model distinguishes between fraudulent and non-fraudulent clients."
   ]
  },
  {
   "cell_type": "markdown",
   "metadata": {},
   "source": [
    "             HYPOTHESIS\n",
    "\n",
    "Null Hypothesis (H0): The distribution of counter_type does not differ between fraudulent and non-fraudulent clients..\n",
    "\n",
    "\n",
    "\n",
    "Alternative Hypothesis (H1): Certain counter_type values are more prevalent among fraudulent clients, indicating a relationship between counter type and fraudulent activities."
   ]
  },
  {
   "cell_type": "markdown",
   "metadata": {},
   "source": [
    "### QUESTIONS\n",
    "\n",
    " \n",
    "1. How does counter_type distribution differ between fraudulent and non-fraudulent clients?\n",
    "\n",
    "2. What is the frequency of each unique counter_type across fraud categories?\n",
    "\n",
    "3. Is there a relationship between consumption levels and counter_type?\n",
    "\n",
    "4. Do seasonal variations in consumption patterns differ across counter_type and fraud categories?"
   ]
  },
  {
   "cell_type": "markdown",
   "metadata": {},
   "source": [
    "## DATA UNDERSTANDING\n",
    "## Importation"
   ]
  },
  {
   "cell_type": "code",
   "execution_count": null,
   "metadata": {},
   "outputs": [],
   "source": [
    "#data handling \n",
    "import pandas as pd \n",
    "import numpy as np\n",
    "import warnings\n",
    "warnings.filterwarnings(\"ignore\")\n",
    "\n",
    "# visualization\n",
    "import seaborn as sns\n",
    "import matplotlib.pyplot as plt\n",
    "import plotly.express as px "
   ]
  }
 ],
 "metadata": {
  "kernelspec": {
   "display_name": "venv_fraud",
   "language": "python",
   "name": "python3"
  },
  "language_info": {
   "name": "python",
   "version": "3.9.13"
  }
 },
 "nbformat": 4,
 "nbformat_minor": 2
}
